{
 "cells": [
  {
   "cell_type": "markdown",
   "id": "069330c9-7017-450a-8c56-97f1280eb8d3",
   "metadata": {},
   "source": [
    "18. Implement a decorator function called ‘timer’ that measures the execution time of a function. The ‘timer’ decorator should print the time taken by the decorated function to execute. Use the ‘time’ module in Python to calculate the execution time.\n",
    "\n",
    "Example:\n",
    "\n",
    "import time\n",
    "\n",
    "@timer\n",
    "def my_function():\n",
    "    # Function code goes here\n",
    "    time.sleep(2)\n",
    "\n",
    "my_function()\n",
    "\n",
    "Output:\n",
    "\"Execution time: 2.00123 seconds\""
   ]
  },
  {
   "cell_type": "code",
   "execution_count": 5,
   "id": "1b447452-d1e8-457e-83df-91055bcc423d",
   "metadata": {},
   "outputs": [
    {
     "name": "stdout",
     "output_type": "stream",
     "text": [
      "Function executed in 0.0285s\n"
     ]
    }
   ],
   "source": [
    "from time import time\n",
    "\n",
    "\n",
    "def timer_func(func):\n",
    "\tdef wrap_func(*args, **kwargs):\n",
    "\t\tt1 = time()\n",
    "\t\tresult = func(*args, **kwargs)\n",
    "\t\tt2 = time()\n",
    "\t\tprint(f'Function executed in {(t2-t1):.4f}s')\n",
    "\t\treturn result\n",
    "\treturn wrap_func\n",
    "\n",
    "\n",
    "@timer_func\n",
    "def long_time(n):\n",
    "\tfor i in range(n):\n",
    "\t\tfor j in range(100000):\n",
    "\t\t\ti*j\n",
    "\n",
    "\n",
    "long_time(5)"
   ]
  }
 ],
 "metadata": {
  "kernelspec": {
   "display_name": "Python 3 (ipykernel)",
   "language": "python",
   "name": "python3"
  },
  "language_info": {
   "codemirror_mode": {
    "name": "ipython",
    "version": 3
   },
   "file_extension": ".py",
   "mimetype": "text/x-python",
   "name": "python",
   "nbconvert_exporter": "python",
   "pygments_lexer": "ipython3",
   "version": "3.10.8"
  }
 },
 "nbformat": 4,
 "nbformat_minor": 5
}
