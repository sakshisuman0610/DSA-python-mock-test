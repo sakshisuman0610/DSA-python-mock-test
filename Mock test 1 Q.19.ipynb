{
 "cells": [
  {
   "cell_type": "markdown",
   "id": "5476b455-7910-4889-b8eb-250b5324eb28",
   "metadata": {},
   "source": [
    "19. Write a function called ‘calculate_mean’ that takes a list of numbers as input and returns the mean (average) of the numbers. The function should calculate the mean using the sum of the numbers divided by the total count.\n",
    "\n",
    "Example:\n",
    "\n",
    "def calculate_mean(numbers):\n",
    "    \n",
    "    total = sum(numbers)\n",
    "    \n",
    "    count = len(numbers)\n",
    "    \n",
    "    mean = total / count\n",
    "    \n",
    "    return mean\n",
    "\n",
    "data = [10, 15, 20, 25, 30]\n",
    "\n",
    "mean_value = calculate_mean(data)\n",
    "\n",
    "print(\"Mean:\", mean_value)\n",
    "\n",
    "Output:\n",
    "\n",
    "Mean: 20.0"
   ]
  },
  {
   "cell_type": "code",
   "execution_count": 13,
   "id": "696cec37-5795-4838-8951-16da96f19989",
   "metadata": {},
   "outputs": [
    {
     "name": "stdout",
     "output_type": "stream",
     "text": [
      "mean 19.4\n"
     ]
    }
   ],
   "source": [
    "def calculate_mean(num):\n",
    "    sum_num = 0\n",
    "    for t in num:\n",
    "        sum_num = sum_num + t           \n",
    "\n",
    "    mean = sum_num / len(num)\n",
    "    return mean\n",
    "\n",
    "data = [18,25,3,41,10]\n",
    "mean_value = calculate_mean(data)\n",
    "print(\"mean\", mean_value)"
   ]
  }
 ],
 "metadata": {
  "kernelspec": {
   "display_name": "Python 3 (ipykernel)",
   "language": "python",
   "name": "python3"
  },
  "language_info": {
   "codemirror_mode": {
    "name": "ipython",
    "version": 3
   },
   "file_extension": ".py",
   "mimetype": "text/x-python",
   "name": "python",
   "nbconvert_exporter": "python",
   "pygments_lexer": "ipython3",
   "version": "3.10.8"
  }
 },
 "nbformat": 4,
 "nbformat_minor": 5
}
