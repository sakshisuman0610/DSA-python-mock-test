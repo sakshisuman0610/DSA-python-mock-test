{
 "cells": [
  {
   "cell_type": "markdown",
   "id": "1a170f27-6fc5-4b5a-ba3b-bee9746fe26e",
   "metadata": {},
   "source": [
    "20. Write a function called ‘perform_hypothesis_test’ that takes two lists of numbers as input, representing two samples. The function should perform a two-sample t-test and return the p-value. Use the ‘scipy.stats’ module in Python to calculate the t-test and p-value.\n",
    "\n",
    "Example:\n",
    "\n",
    "from scipy import stats\n",
    "\n",
    "def perform_hypothesis_test(sample1, sample2):\n",
    "\n",
    "    t_statistic, p_value = stats.ttest_ind(sample1, sample2)\n",
    "    \n",
    "    return p_value\n",
    "\n",
    "sample1 = [5, 10, 15, 20, 25]\n",
    "\n",
    "sample2 = [10, 20, 30, 40, 50]\n",
    "\n",
    "p_value = perform_hypothesis_test(sample1, sample2)\n",
    "\n",
    "print(\"P-value:\", p_value)\n",
    "\n",
    "Output:\n",
    "\n",
    "P-value: 0.1064706396450037"
   ]
  },
  {
   "cell_type": "code",
   "execution_count": 4,
   "id": "2bf12cf7-453b-491e-954a-eb6f0ff9d8aa",
   "metadata": {},
   "outputs": [
    {
     "name": "stdout",
     "output_type": "stream",
     "text": [
      "p_value: 0.5300471010405257\n"
     ]
    }
   ],
   "source": [
    "\n",
    "import scipy.stats as stats\n",
    "\n",
    "def perform_hypoyhesis_test(data_group1 , data_group2):\n",
    "    t_statistic , p_value = stats.ttest_ind(data_group1 , data_group2)\n",
    "    return p_value\n",
    "\n",
    "data_group1 = [14, 15, 15, 16, 13, 8, 14,\n",
    "\t\t\t\t17, 16, 14, 19, 20, 21, 15,\n",
    "\t\t\t\t15, 16, 16, 13, 14, 12]\n",
    "data_group2 = [15, 17, 14, 17, 14, 8, 12,\n",
    "\t\t\t\t19, 19, 14, 17, 22, 24, 16,\n",
    "\t\t\t\t13, 16, 13, 18, 15, 13]\n",
    "\n",
    "p_value = perform_hypothesis_test(data_group1 , data_group2)\n",
    "print(\"p_value:\" , p_value)\n"
   ]
  },
  {
   "cell_type": "code",
   "execution_count": null,
   "id": "855ed78c-749e-4b19-b8d3-40f4af7038fa",
   "metadata": {},
   "outputs": [],
   "source": []
  }
 ],
 "metadata": {
  "kernelspec": {
   "display_name": "Python 3 (ipykernel)",
   "language": "python",
   "name": "python3"
  },
  "language_info": {
   "codemirror_mode": {
    "name": "ipython",
    "version": 3
   },
   "file_extension": ".py",
   "mimetype": "text/x-python",
   "name": "python",
   "nbconvert_exporter": "python",
   "pygments_lexer": "ipython3",
   "version": "3.10.8"
  }
 },
 "nbformat": 4,
 "nbformat_minor": 5
}
